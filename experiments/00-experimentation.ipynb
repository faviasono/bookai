{
 "cells": [
  {
   "cell_type": "code",
   "execution_count": null,
   "metadata": {},
   "outputs": [],
   "source": [
    "from transformers import pipeline\n",
    "\n",
    "classifier = pipeline(\"zero-shot-classification\", model=\"facebook/bart-large-mnli\")\n",
    "candidate_labels = [\"about the author\", \"acknowledgements\", \"about the book\", \"table of content\"]"
   ]
  },
  {
   "cell_type": "code",
   "execution_count": null,
   "metadata": {},
   "outputs": [],
   "source": [
    "def get_classification(text, eq=None, threshold=0.3):\n",
    "    assert eq in candidate_labels if eq else True\n",
    "    if not eq:\n",
    "        return classifier(text, candidate_labels=candidate_labels)[\"labels\"][0]\n",
    "    else:\n",
    "        res = classifier(text, candidate_labels=candidate_labels)\n",
    "        return res[\"labels\"][0] == eq if res[\"scores\"][0] > threshold else None"
   ]
  },
  {
   "cell_type": "code",
   "execution_count": null,
   "metadata": {},
   "outputs": [],
   "source": [
    "classifier(\"This is a book about the author\", candidate_labels=candidate_labels)"
   ]
  },
  {
   "cell_type": "code",
   "execution_count": null,
   "metadata": {},
   "outputs": [],
   "source": [
    "summary_path = \"/Users/andreafavia/development/bookai/Big Feelings.json\"\n",
    "\n",
    "import json\n",
    "\n",
    "with open(summary_path, \"r\") as f:\n",
    "    data = json.load(f)\n",
    "import pprint\n",
    "\n",
    "for chapt, text in data.items():\n",
    "    print(\"___\")\n",
    "    print(text)"
   ]
  }
 ],
 "metadata": {
  "kernelspec": {
   "display_name": "bookai",
   "language": "python",
   "name": "python3"
  },
  "language_info": {
   "codemirror_mode": {
    "name": "ipython",
    "version": 3
   },
   "file_extension": ".py",
   "mimetype": "text/x-python",
   "name": "python",
   "nbconvert_exporter": "python",
   "pygments_lexer": "ipython3",
   "version": "3.10.14"
  }
 },
 "nbformat": 4,
 "nbformat_minor": 2
}
